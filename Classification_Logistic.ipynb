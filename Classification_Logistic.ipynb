{
 "cells": [
  {
   "cell_type": "code",
   "execution_count": null,
   "metadata": {},
   "outputs": [],
   "source": [
    "%matplotlib inline\n",
    "import numpy as np\n",
    "import pandas as pd\n",
    "import seaborn as sn\n",
    "import matplotlib.pyplot as plt\n",
    "\n",
    "from sklearn.model_selection import train_test_split\n",
    "from sklearn.datasets import load_breast_cancer"
   ]
  },
  {
   "cell_type": "code",
   "execution_count": null,
   "metadata": {},
   "outputs": [],
   "source": [
    "# Breast cancer dataset for classification\n",
    "cancer = load_breast_cancer()\n",
    "(X_cancer, y_cancer) = load_breast_cancer(return_X_y = True)"
   ]
  },
  {
   "cell_type": "code",
   "execution_count": null,
   "metadata": {},
   "outputs": [],
   "source": [
    "# import logistic regression\n",
    "#Split train and test data\n",
    "\n",
    "from sklearn.linear_model import LogisticRegression\n",
    "\n",
    "X_train, X_test, y_train, y_test = train_test_split(X_cancer, y_cancer, random_state = 0)"
   ]
  },
  {
   "cell_type": "code",
   "execution_count": null,
   "metadata": {},
   "outputs": [],
   "source": [
    "# Create an estimator object\n",
    "#from sklearn import preprocessing\n",
    "#preprocessing.StandardScaler().fit(X_train)\n",
    "#preprocessing.StandardScaler().fit(X_test)\n",
    "\n",
    "LR = LogisticRegression(max_iter=2000).fit(X_train, y_train)\n",
    "print('Breast cancer dataset')\n",
    "print('Accuracy of Logistic regression classifier on training set :{:.2f}'\n",
    "     .format(LR.score(X_train, y_train)))"
   ]
  },
  {
   "cell_type": "code",
   "execution_count": null,
   "metadata": {},
   "outputs": [],
   "source": [
    "LogisticRegression()"
   ]
  },
  {
   "cell_type": "code",
   "execution_count": null,
   "metadata": {},
   "outputs": [],
   "source": [
    "print('Accuracy of Logistic regression classifier on test set: {:.2f}'\n",
    "     .format(LR.score(X_test, y_test)))"
   ]
  },
  {
   "cell_type": "code",
   "execution_count": null,
   "metadata": {},
   "outputs": [],
   "source": [
    "# predict LR\n",
    "from sklearn.metrics import confusion_matrix\n",
    "\n",
    "LR_predict = LR.predict(X_test)\n",
    "CM = confusion_matrix(y_test, LR_predict)\n",
    "\n",
    "print('Logistic Regression classifier\\n', CM)"
   ]
  },
  {
   "cell_type": "code",
   "execution_count": null,
   "metadata": {},
   "outputs": [],
   "source": [
    "# Evaluation metrics for binary classification\n",
    "\n",
    "from sklearn.metrics import accuracy_score, precision_score, recall_score, f1_score\n",
    "\n",
    "# Accuracy = TP + TN /(TP + TN + FP + FN)\n",
    "# Precision = TP / (TP + FP)\n",
    "# Recall or Sensitivity or True Positive Rate = TP / (TP + FN)\n",
    "# F1 = 2* Precision * Recall / (Precision + Recall)\n",
    "\n",
    "print( 'Accuracy : {:.2f}'.format(accuracy_score(y_test,LR_predict)))\n",
    "print('Precision : {:.2f}'.format(precision_score(y_test, LR_predict)))\n",
    "print('Recall: {:.2f}'.format(recall_score(y_test, LR_predict)))\n",
    "print('F1: {:.2f}'.format(f1_score(y_test, LR_predict)))\n",
    "\n"
   ]
  },
  {
   "cell_type": "code",
   "execution_count": null,
   "metadata": {},
   "outputs": [],
   "source": [
    "y_0= y_cancer.copy()\n",
    "y_0[y_0 != 1] = 0\n",
    "print('Original labels:\\t', y_cancer[1:10])\n",
    "print('New binary labels:\\t', y_0[1:10])"
   ]
  },
  {
   "cell_type": "code",
   "execution_count": null,
   "metadata": {},
   "outputs": [],
   "source": [
    "from sklearn.metrics import roc_curve, auc\n",
    "\n",
    "X_train, X_test, y_train, y_test = train_test_split(X_cancer, y_0, random_state=0)\n",
    "\n",
    "y_score_lr = LR.fit(X_train, y_train).decision_function(X_test)\n",
    "FPR_LR,TPR_LR, _ = roc_curve(y_test, y_score_lr)\n",
    "roc_auc_lr = auc(FPR_LR, TPR_LR)\n",
    "roc_auc_lr"
   ]
  },
  {
   "cell_type": "code",
   "execution_count": null,
   "metadata": {},
   "outputs": [],
   "source": [
    "plt.figure()\n",
    "plt.xlim([-0.01, 1.00])\n",
    "plt.ylim([-0.01, 1.01])\n",
    "plt.plot(FPR_LR, TPR_LR, lw=3, label='LogRegr ROC curve (area = {:0.2f})'.format(roc_auc_lr))\n",
    "plt.xlabel('False Positive Rate', fontsize=16)\n",
    "plt.ylabel('True Positive Rate', fontsize=16)\n",
    "plt.title('ROC curve (1-of-10 digits classifier)', fontsize=16)\n",
    "plt.legend(loc='lower right', fontsize=13)\n",
    "plt.plot([0, 1], [0, 1], color='navy', lw=3, linestyle='--')\n",
    "plt.axes().set_aspect('equal')\n",
    "plt.show()"
   ]
  },
  {
   "cell_type": "code",
   "execution_count": null,
   "metadata": {},
   "outputs": [],
   "source": []
  }
 ],
 "metadata": {
  "kernelspec": {
   "display_name": "Python 3",
   "language": "python",
   "name": "python3"
  },
  "language_info": {
   "codemirror_mode": {
    "name": "ipython",
    "version": 3
   },
   "file_extension": ".py",
   "mimetype": "text/x-python",
   "name": "python",
   "nbconvert_exporter": "python",
   "pygments_lexer": "ipython3",
   "version": "3.7.3"
  }
 },
 "nbformat": 4,
 "nbformat_minor": 4
}
