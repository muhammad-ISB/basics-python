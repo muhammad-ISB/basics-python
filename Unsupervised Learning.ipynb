{
 "cells": [
  {
   "cell_type": "markdown",
   "metadata": {},
   "source": [
    "### Principal Component Analysis(PCA)\n",
    "\n"
   ]
  },
  {
   "cell_type": "code",
   "execution_count": null,
   "metadata": {},
   "outputs": [],
   "source": [
    "from sklearn.preprocessing import StandardScaler\n",
    "from sklearn.decomposition import PCA\n",
    "from sklearn.datasets import load_breast_cancer\n"
   ]
  },
  {
   "cell_type": "code",
   "execution_count": null,
   "metadata": {},
   "outputs": [],
   "source": [
    "# Load data\n",
    "cancer = load_breast_cancer()\n",
    "#cancer.feature_names\n",
    "(X_cancer, y_cancer) = load_breast_cancer(return_X_y = True)\n"
   ]
  },
  {
   "cell_type": "code",
   "execution_count": null,
   "metadata": {},
   "outputs": [],
   "source": [
    "#Let's normalise the data\n",
    "X_normalized = StandardScaler().fit(X_cancer).transform(X_cancer)"
   ]
  },
  {
   "cell_type": "code",
   "execution_count": null,
   "metadata": {},
   "outputs": [],
   "source": [
    "# build PCA object\n",
    "\n",
    "pca = PCA(n_components = 2). fit(X_normalized)\n",
    "\n",
    "X_pca = pca.transform(X_normalized)"
   ]
  },
  {
   "cell_type": "code",
   "execution_count": null,
   "metadata": {},
   "outputs": [],
   "source": [
    "print(X_cancer.shape, X_pca.shape)\n",
    "\n",
    "#Use imshow(pca.components_) to view the varaibles and their density for individual PC's"
   ]
  },
  {
   "cell_type": "markdown",
   "metadata": {},
   "source": [
    "## Clustering"
   ]
  },
  {
   "cell_type": "code",
   "execution_count": null,
   "metadata": {},
   "outputs": [],
   "source": [
    "fruits.head()"
   ]
  },
  {
   "cell_type": "code",
   "execution_count": null,
   "metadata": {},
   "outputs": [],
   "source": [
    "from sklearn.datasets import make_blobs\n",
    "from sklearn.cluster import KMeans\n",
    "from sklearn.preprocessing import MinMaxScaler\n",
    "\n"
   ]
  },
  {
   "cell_type": "code",
   "execution_count": null,
   "metadata": {},
   "outputs": [],
   "source": [
    "#Load Frutis data\n",
    "\n",
    "fruits = pd.read_table('fruit_data_with_colors.txt')"
   ]
  },
  {
   "cell_type": "code",
   "execution_count": null,
   "metadata": {},
   "outputs": [],
   "source": [
    "\n",
    "X_fruits = fruits[['mass','width','height','color_score']].values\n",
    "y_fruits = fruits[['fruit_label']] - 1\n"
   ]
  },
  {
   "cell_type": "code",
   "execution_count": null,
   "metadata": {},
   "outputs": [],
   "source": [
    "fruits.head()"
   ]
  },
  {
   "cell_type": "code",
   "execution_count": null,
   "metadata": {},
   "outputs": [],
   "source": [
    "# Normalize the varaible values\n",
    "X_fruits_normalized = MinMaxScaler().fit(X_fruits).transform(X_fruits)\n"
   ]
  },
  {
   "cell_type": "code",
   "execution_count": null,
   "metadata": {},
   "outputs": [],
   "source": [
    "# Create K-means object\n",
    "\n",
    "kmeans = KMeans(n_clusters = 4, init='k-means++',n_init=10,max_iter=50, random_state = 0).fit(X_fruits_normalized)\n"
   ]
  },
  {
   "cell_type": "code",
   "execution_count": null,
   "metadata": {},
   "outputs": [],
   "source": [
    "#Predict the model\n",
    "labels=kmeans.predict(X_fruits_normalized)\n"
   ]
  },
  {
   "cell_type": "code",
   "execution_count": null,
   "metadata": {},
   "outputs": [],
   "source": [
    "# View the labels\n",
    "kmeans_labels = kmeans.labels_\n",
    "print(labels)\n",
    "#print(kmeans_labels)\n"
   ]
  },
  {
   "cell_type": "code",
   "execution_count": null,
   "metadata": {},
   "outputs": [],
   "source": [
    "import matplotlib.pyplot as plt\n",
    "plt.scatter(X_fruits_normalized[labels==0, 1], X_fruits_normalized[labels==0, 2],s=100, c='red', label ='Cluster 1')\n",
    "plt.scatter(X_fruits_normalized[labels==1, 1], X_fruits_normalized[labels==1, 2],s=100, c='blue', label ='Cluster 2')\n",
    "plt.scatter(X_fruits_normalized[labels==2, 1], X_fruits_normalized[labels==2, 2],s=100, c='green', label ='Cluster 3')\n",
    "plt.scatter(X_fruits_normalized[labels==3, 1], X_fruits_normalized[labels==3, 2],s=100, c='cyan', label ='Cluster 4')\n",
    "plt.scatter(X_fruits_normalized[labels==4, 1], X_fruits_normalized[labels==4, 2],s=100, c='magenta', label ='Cluster 5')\n",
    "plt.scatter(kmeans.cluster_centers_[:, 1], kmeans.cluster_centers_[:, 2], s=300, c='yellow', label = 'Centroids')\n",
    "plt.title('Clusters of fruits')\n",
    "plt.xlabel('width')\n",
    "plt.ylabel('height')\n",
    "plt.show()"
   ]
  },
  {
   "cell_type": "markdown",
   "metadata": {},
   "source": [
    "##### When you are not certain of the number of cluster or labels then attempt for loop as follows to analyse the elbow-method:"
   ]
  },
  {
   "cell_type": "code",
   "execution_count": null,
   "metadata": {},
   "outputs": [],
   "source": [
    "\n",
    "X_fruits_normalized = MinMaxScaler().fit(X_fruits).transform(X_fruits)\n",
    "\n",
    "w=[]\n",
    "for i in range(1,7):\n",
    "    kmeans = KMeans(n_clusters = i, init='k-means++',n_init=10,max_iter=50, random_state = 0).fit(X_fruits_normalized)\n",
    "    labels=kmeans.predict(X_fruits_normalized)\n",
    "    kmeans_labels = kmeans.labels_\n",
    "    w.append(kmeans.inertia_)\n",
    "print(labels)\n",
    "#print(kmeans_labels)\n",
    "# inertia is the sum of squared distance of samples to their closest cluster center"
   ]
  },
  {
   "cell_type": "code",
   "execution_count": null,
   "metadata": {},
   "outputs": [],
   "source": [
    "plt.plot(range(1,7),w)\n",
    "plt.title('The Elbow Method')\n",
    "plt.xlabel('Number of clusters')\n",
    "plt.ylabel('SS')\n",
    "plt.show()"
   ]
  },
  {
   "cell_type": "code",
   "execution_count": null,
   "metadata": {},
   "outputs": [],
   "source": [
    "import matplotlib.pyplot as plt\n",
    "plt.scatter(X_fruits_normalized[labels==0, 1], X_fruits_normalized[labels==0, 2],s=100, c='red', label ='Cluster 1')\n",
    "plt.scatter(X_fruits_normalized[labels==1, 1], X_fruits_normalized[labels==1, 2],s=100, c='blue', label ='Cluster 2')\n",
    "plt.scatter(X_fruits_normalized[labels==2, 1], X_fruits_normalized[labels==2, 2],s=100, c='green', label ='Cluster 3')\n",
    "plt.scatter(X_fruits_normalized[labels==3, 1], X_fruits_normalized[labels==3, 2],s=100, c='cyan', label ='Cluster 4')\n",
    "plt.scatter(X_fruits_normalized[labels==4, 1], X_fruits_normalized[labels==4, 2],s=100, c='magenta', label ='Cluster 5')\n",
    "plt.scatter(X_fruits_normalized[labels==5, 1], X_fruits_normalized[labels==5, 2],s=100, c='orange', label ='Cluster 6')\n",
    "plt.scatter(X_fruits_normalized[labels==6, 1], X_fruits_normalized[labels==6, 2],s=100, c='lavender', label ='Cluster 5')\n",
    "plt.scatter(kmeans.cluster_centers_[:, 1], kmeans.cluster_centers_[:, 2], s=300, c='yellow', label = 'Centroids')\n",
    "plt.title('Clusters of fruits')\n",
    "plt.xlabel('width')\n",
    "plt.ylabel('height')\n",
    "plt.show()\n"
   ]
  }
 ],
 "metadata": {
  "kernelspec": {
   "display_name": "Python 3",
   "language": "python",
   "name": "python3"
  },
  "language_info": {
   "codemirror_mode": {
    "name": "ipython",
    "version": 3
   },
   "file_extension": ".py",
   "mimetype": "text/x-python",
   "name": "python",
   "nbconvert_exporter": "python",
   "pygments_lexer": "ipython3",
   "version": "3.7.3"
  }
 },
 "nbformat": 4,
 "nbformat_minor": 4
}
