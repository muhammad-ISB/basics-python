{
  "nbformat": 4,
  "nbformat_minor": 0,
  "metadata": {
    "colab": {
      "provenance": []
    },
    "kernelspec": {
      "name": "python3",
      "display_name": "Python 3"
    },
    "language_info": {
      "name": "python"
    }
  },
  "cells": [
    {
      "cell_type": "code",
      "execution_count": 1,
      "metadata": {
        "colab": {
          "base_uri": "https://localhost:8080/"
        },
        "id": "7TkZ2MPv8-Dm",
        "outputId": "cfb3642e-143a-4807-b241-ebf40bec2a12"
      },
      "outputs": [
        {
          "output_type": "stream",
          "name": "stdout",
          "text": [
            "data science\n",
            "datascience reddit\n",
            "data science jobs\n",
            "data science dojo\n",
            "datascience berkeley\n",
            "datascience library python\n",
            "data science minor\n",
            "data science bootcamp\n",
            "data science package python\n",
            "datascienceportfolio.io\n",
            "data science projects\n",
            "data science 365\n",
            "data science course\n",
            "datascience roadmap\n",
            "data science resume\n"
          ]
        }
      ],
      "source": [
        "import json\n",
        "import requests\n",
        "\n",
        "completion_query = 'Datascience'\n",
        "\n",
        "headers = {\n",
        "    'User-Agent':'Mozilla/5.0 (Windows NT 10.0; Win64; x64) AppleWebKit/537.36 (KHTML, like Gecko) Chrome/111.0.0.0 Safari/537.36'\n",
        "}\n",
        "\n",
        "response = requests.get(f'http://google.com/complete/search?client=chrome&q={completion_query}')\n",
        "\n",
        "for completion in json.loads(response.text)[1]:\n",
        "    print(completion)\n"
      ]
    },
    {
      "cell_type": "code",
      "source": [
        "completion_query = 'Indian School of Business'\n",
        "\n",
        "headers = {\n",
        "    'User-Agent':'Mozilla/5.0 (Windows NT 10.0; Win64; x64) AppleWebKit/537.36 (KHTML, like Gecko) Chrome/111.0.0.0 Safari/537.36'\n",
        "}\n",
        "\n",
        "response = requests.get(f'http://google.com/complete/search?client=chrome&q={completion_query}')\n",
        "\n",
        "for completion in json.loads(response.text)[1]:\n",
        "    print(completion)"
      ],
      "metadata": {
        "colab": {
          "base_uri": "https://localhost:8080/"
        },
        "id": "NZAm1MoG9CT-",
        "outputId": "f12cde2a-b9a1-4b01-cb7b-30fc7fd2fe15"
      },
      "execution_count": 3,
      "outputs": [
        {
          "output_type": "stream",
          "name": "stdout",
          "text": [
            "indian school of business and finance\n",
            "indian school of business ranking\n",
            "indian school of business acceptance rate\n",
            "indian school of business fees\n",
            "indian school of business management and administration\n",
            "indian school of business hyderabad address\n",
            "indian school of business mohali\n",
            "indian school of business online mba\n",
            "indian school of business notable alumni\n",
            "indian school of business and finance ranking\n",
            "indian school of business admission\n",
            "indian school of business world ranking\n",
            "indian school of business placements\n",
            "indian school of business product management\n",
            "indian school of business salary\n"
          ]
        }
      ]
    },
    {
      "cell_type": "code",
      "source": [
        "completion_query = 'Indian School of Business'\n",
        "\n",
        "headers = {\n",
        "    'User-Agent':'Mozilla/5.0 (Windows NT 10.0; Win64; x64) AppleWebKit/537.36 (KHTML, like Gecko) Chrome/111.0.0.0 Safari/537.36'\n",
        "}\n",
        "\n",
        "response = requests.get(f'http://google.com/complete/search?client=chrome&q={completion_query}',\n",
        "                        proxies = {\n",
        "                            'http':'http://12.186.205.122',\n",
        "                        }\n",
        "\n",
        ")\n",
        "\n",
        "for completion in json.loads(response.text)[1]:\n",
        "    print(completion)"
      ],
      "metadata": {
        "colab": {
          "base_uri": "https://localhost:8080/"
        },
        "id": "oJMD78ZH9NwL",
        "outputId": "3d28ca08-da18-4ee0-962f-e422fc25b403"
      },
      "execution_count": 5,
      "outputs": [
        {
          "output_type": "stream",
          "name": "stdout",
          "text": [
            "indian school of business and finance\n",
            "indian school of business ranking\n",
            "indian school of business acceptance rate\n",
            "indian school of business fees\n",
            "indian school of business management and administration\n",
            "indian school of business hyderabad address\n",
            "indian school of business mohali\n",
            "indian school of business online mba\n",
            "indian school of business notable alumni\n",
            "indian school of business and finance ranking\n",
            "indian school of business admission\n",
            "indian school of business world ranking\n",
            "indian school of business placements\n",
            "indian school of business product management\n",
            "indian school of business salary\n"
          ]
        }
      ]
    },
    {
      "cell_type": "code",
      "source": [],
      "metadata": {
        "id": "tyDo9D8V9Z-d"
      },
      "execution_count": null,
      "outputs": []
    }
  ]
}